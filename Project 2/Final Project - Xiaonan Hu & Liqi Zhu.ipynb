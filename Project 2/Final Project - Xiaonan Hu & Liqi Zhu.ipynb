{
 "cells": [
  {
   "cell_type": "code",
   "execution_count": 79,
   "metadata": {
    "collapsed": true
   },
   "outputs": [],
   "source": [
    "import numpy as np\n",
    "import pandas as pd\n",
    "import operator\n",
    "import math"
   ]
  },
  {
   "cell_type": "code",
   "execution_count": 61,
   "metadata": {
    "collapsed": true
   },
   "outputs": [],
   "source": [
    "#Define a class for KNN classification\n",
    "class KNNclassify(object):\n",
    "    \n",
    "    def __init__(self,X,Y,norm):   # Initialization，and define whether do standardization\n",
    "        self.n=X.shape[0]\n",
    "        self.y=Y\n",
    "        self.allKNN=[]\n",
    "        self.allWKNN=[]\n",
    "        if norm==True:   # Deviation standardization\n",
    "            self.x=((X-np.tile(np.min(X,axis=0),(self.n,1)))/np.tile(np.max(X,axis=0)-np.min(X,axis=0),(self.n,1)))\n",
    "        else:\n",
    "            self.x=X\n",
    "        \n",
    "    def DataCheck(self):   \n",
    "        Count={}\n",
    "        for i in range(self.n):\n",
    "            c=self.y[i]\n",
    "            Count[c]=Count.get(c,0)+1   \n",
    "        return Count,np.mean(Count.values()),np.var(Count.values())\n",
    "        \n",
    "    def Distances(self,test):   # Calculate Euclidean distance\n",
    "        Diff=np.tile(test,(self.n,1))-self.x\n",
    "        sqDiff=Diff**2\n",
    "        sqDistances=sqDiff.sum(axis=1)\n",
    "        Distances=sqDistances**0.5   \n",
    "        return Distances        \n",
    "        \n",
    "    def KNN(self,test,k):   # kNN classification\n",
    "        Distances=self.Distances(test)\n",
    "        sortedDist=Distances.argsort()   # order：return the index of ascending order for finding out the k-nearest neighbors\n",
    "        Count={}\n",
    "        for i in range(k):\n",
    "            vote=self.y[sortedDist[i]]\n",
    "            Count[vote]=Count.get(vote,0)+1   # Define a dict to count votes\n",
    "        sortedCount=sorted(Count.items(),key=operator.itemgetter(1),reverse=True)    # Descending order by key value\n",
    "        self.allKNN.append(sortedCount[0][0])\n",
    "        return sortedCount[0][0]\n",
    "    \n",
    "    def allclass(self,xtest,k):   # Apply kNN classification on the test data set\n",
    "        ntest=xtest.shape[0]\n",
    "        allclass=np.zeros(ntest,dtype=str)\n",
    "        for i in range(ntest):\n",
    "            allclass[i]=self.KNN(xtest[i],k)\n",
    "        return allclass\n",
    "    \n",
    "    def err(self,xtest,ytest,k):   # Calculate the error rate of kNN\n",
    "        ntest=xtest.shape[0]\n",
    "        err=np.sum(ytest!=self.allclass(xtest,k))/float(ntest)\n",
    "        return err\n",
    "    \n",
    "    def weighedKNN(self,test,k):   # Weighted kNN \n",
    "        Distances=self.Distances(test)\n",
    "        sortedDist=Distances.argsort()    # order：return the index of ascending order for finding out the k-nearest neighbors\n",
    "        Count = {}   # Define a dict to count votes of k-nearest neighbors\n",
    "        for i in range(k):\n",
    "            vote=self.y[sortedDist[i]]\n",
    "            Count[vote]=Count.get(vote,0)+1/Distances[sortedDist[i]]   # Use 1/Distance as weighted vote\n",
    "        sortedCount = sorted(Count.items(),key=operator.itemgetter(1),reverse=True)   # Descending order by key value\n",
    "        return sortedCount[0][0]\n",
    "    \n",
    "    def allWclass(self,xtest,k):   # Apply weighted kNN classification on the test data set\n",
    "        ntest=xtest.shape[0]\n",
    "        allclass=np.zeros(ntest,dtype=str)\n",
    "        for i in range(ntest):\n",
    "            allclass[i]=self.weighedKNN(xtest[i],k)\n",
    "        return allclass\n",
    "    \n",
    "    def Werr(self,xtest,ytest,k):   # Calculate the error rate of weighted kNN\n",
    "        ntest=xtest.shape[0]\n",
    "        err=np.sum(ytest!=self.allWclass(xtest,k))/float(ntest)\n",
    "        return err\n",
    "    \n",
    "    def allclasses(self,xtest,k):   \n",
    "        ntest=xtest.shape[0]\n",
    "        manager=Manager()\n",
    "        record=[]\n",
    "        self.allKNN=manager.list()\n",
    "        for i in range(ntest):\n",
    "            p=Process(target=self.KNN,args=(xtest[i],k))\n",
    "            p.daemon=True\n",
    "            record.append(p)\n",
    "        for i in range(ntest):\n",
    "            record[i].start()\n",
    "        for i in range(ntest):\n",
    "            record[i].join()\n",
    "        return self.allKNN"
   ]
  },
  {
   "cell_type": "code",
   "execution_count": 62,
   "metadata": {
    "collapsed": true
   },
   "outputs": [],
   "source": [
    "def S(x,y):\n",
    "    S = [[] for i in range(x.shape[1])]\n",
    "    for m in range(x.shape[1]):\n",
    "        V = {}\n",
    "        for n in range(x.shape[0]):\n",
    "            v = x[n,m]\n",
    "            V [v] = V.get(v,0)+1\n",
    "        for i in V.keys():\n",
    "            Count = {}\n",
    "            for n in range(x.shape[0]):\n",
    "                c=y[n]\n",
    "                if x[n,m]==i: Count[c] = Count.get(c,0)+1\n",
    "            for k in Count.keys(): \n",
    "                Count[k] = Count.get(k,0)/V[i]\n",
    "            p = np.fromiter(iter(Count.values()), dtype=float)\n",
    "            lnp = np.array(list(map(math.log,p)))\n",
    "            if len(p)==1: \n",
    "                s = 0\n",
    "            else:s = -sum(p*lnp)\n",
    "            V[i] = s\n",
    "        S[m] = V\n",
    "    return S"
   ]
  },
  {
   "cell_type": "code",
   "execution_count": 63,
   "metadata": {
    "collapsed": true
   },
   "outputs": [],
   "source": [
    "def Entropy(xtrain,ytrain,test,Sv,k=10):\n",
    "    D = np.zeros(xtrain.shape[0])\n",
    "    for n in range(xtrain.shape[0]):\n",
    "        check = xtrain[n]==test\n",
    "        if sum(check)==0:\n",
    "            D[n] = 10\n",
    "            continue\n",
    "        d = 0\n",
    "        for i in range(xtrain.shape[1]):\n",
    "            if check[i]==True:\n",
    "                v = xtrain[n,i]\n",
    "                d = d + Sv[i][v]\n",
    "        D[n] = d/sum(check)\n",
    "    #print (D)\n",
    "    sortedD = D.argsort()\n",
    "    Count = {}\n",
    "    for i in range(k):\n",
    "        c = ytrain[sortedD[i]]\n",
    "        Count[c]=Count.get(c,0)+1            #Dict\n",
    "    Kj = Count.items()\n",
    "    T = np.zeros(len(Kj))\n",
    "    Dk = D[sortedD[range(k)]]\n",
    "    C = ytrain[sortedD[range(k)]]\n",
    "    for j in range(len(Kj)):\n",
    "        sumD = 0\n",
    "        for i in range(k):\n",
    "            if C[i]==list(Kj)[j][0]:\n",
    "                sumD = sumD+Dk[i]\n",
    "        a = float(k-list(Kj)[j][1])/float(k)\n",
    "        t = a*(sumD/list(Kj)[j][1])\n",
    "        T[j]=t\n",
    "    C = list(Kj)[T.argsort()[0]][0]\n",
    "    return C"
   ]
  },
  {
   "cell_type": "code",
   "execution_count": 64,
   "metadata": {
    "collapsed": true
   },
   "outputs": [],
   "source": [
    "def AllEntropy(xtrain,ytrain,xtest,k):\n",
    "    ntest=xtest.shape[0]\n",
    "    allclass=np.zeros(ntest,dtype=str)\n",
    "    Sv = S(xtrain,ytrain)\n",
    "    for i in range(ntest):\n",
    "        allclass[i]=Entropy(xtrain,ytrain,xtest[i],Sv)   \n",
    "    return allclass"
   ]
  },
  {
   "cell_type": "code",
   "execution_count": 65,
   "metadata": {
    "collapsed": true
   },
   "outputs": [],
   "source": [
    "def Eerr(xtrain,ytrain,xtest,k):\n",
    "    Allpre = AllEntropy(xtrain,ytrain,xtest,k)\n",
    "    err=np.sum(ytest!=Allpre)/float(ytest.shape[0])\n",
    "    return err"
   ]
  },
  {
   "cell_type": "code",
   "execution_count": 120,
   "metadata": {
    "collapsed": true
   },
   "outputs": [],
   "source": [
    "x = np.loadtxt(\"C:/Users/Kiran/Desktop/2017 Fall/Data Mining/Final Project/x.csv\",delimiter=',',skiprows=0,dtype=float)\n",
    "yb = np.loadtxt(\"C:/Users/Kiran/Desktop/2017 Fall/Data Mining/Final Project/y.csv\",delimiter=',',skiprows=0,dtype=bytes)\n",
    "y = np.loadtxt(\"C:/Users/Kiran/Desktop/2017 Fall/Data Mining/Final Project/y.csv\",delimiter=',',skiprows=0,dtype=str)"
   ]
  },
  {
   "cell_type": "code",
   "execution_count": 121,
   "metadata": {
    "collapsed": true
   },
   "outputs": [
    {
     "name": "stdout",
     "output_type": "stream",
     "text": [
      "['V' 'C' 'J' ..., 'Z' 'Y' 'M']\n"
     ]
    }
   ],
   "source": [
    "N = x.shape[0]\n",
    "M = x.shape[1]\n",
    "for n in range(N):\n",
    "    y[n] = yb[n].decode(encoding='utf-8')\n",
    "print (y)"
   ]
  },
  {
   "cell_type": "code",
   "execution_count": 122,
   "metadata": {
    "collapsed": true
   },
   "outputs": [
    {
     "name": "stdout",
     "output_type": "stream",
     "text": [
      "2000\n",
      "[[  3.  10.   5. ...,   9.   0.   8.]\n",
      " [  3.   5.   4. ...,   9.   3.   7.]\n",
      " [  0.   0.   1. ...,   7.   0.   8.]\n",
      " ..., \n",
      " [  8.  15.   8. ...,   9.   3.   7.]\n",
      " [  2.   4.   4. ...,   8.   2.   8.]\n",
      " [  4.   7.   5. ...,   9.   4.   6.]] [[ 10.  14.  10. ...,  11.   2.   7.]\n",
      " [  6.  12.   5. ...,   7.   6.   9.]\n",
      " [  6.   9.   6. ...,   8.   6.   7.]\n",
      " ..., \n",
      " [  7.  11.   7. ...,   9.   5.   8.]\n",
      " [  4.   8.   6. ...,  11.   2.   8.]\n",
      " [  3.   2.   5. ...,   5.   2.   8.]]\n",
      "['V' 'C' 'J' ..., 'K' 'D' 'P'] ['M' 'L' 'R' ..., 'Z' 'Y' 'M']\n"
     ]
    }
   ],
   "source": [
    "folds = 10\n",
    "n = int(N/folds)\n",
    "print (size)\n",
    "xtrain = x[:size,]\n",
    "xtest = x[size:,]\n",
    "ytrain = y[:size,]\n",
    "ytest = y[size:,]\n",
    "print (xtrain,xtest)\n",
    "print (ytrain,ytest)"
   ]
  },
  {
   "cell_type": "code",
   "execution_count": 123,
   "metadata": {
    "collapsed": true
   },
   "outputs": [
    {
     "name": "stdout",
     "output_type": "stream",
     "text": [
      "[{3.0: 3.2204042982523031, 0.0: 0.69314718055994529, 6.0: 3.1781475384092857, 7.0: 3.129313522445015, 4.0: 3.201950361887631, 1.0: 2.8529736858281849, 5.0: 3.2107031983520797, 2.0: 3.1517872995862124, 11.0: 1.6094379124341005, 9.0: 2.4324441210724341, 8.0: 2.8621368130810887, 13.0: 0, 10.0: 2.0431918705451206, 14.0: 0, 12.0: 0}, {10.0: 3.1800743424008364, 5.0: 3.1893108229528107, 0.0: 3.0780271151563996, 6.0: 3.1928966259680465, 11.0: 3.1693186682477528, 3.0: 3.1653018721858439, 8.0: 3.2141941990162137, 9.0: 3.1744108702748712, 4.0: 3.1784747091273644, 15.0: 2.614589432947608, 7.0: 3.2002138227595816, 12.0: 2.8862023141021282, 1.0: 2.9488484168475719, 2.0: 2.9778813320259374, 14.0: 2.1333819302645449, 13.0: 2.8234169983973918}, {5.0: 3.2123469694519127, 4.0: 3.2104957497474622, 1.0: 2.5801308998311092, 6.0: 3.213134144008412, 9.0: 2.8687952490680084, 2.0: 2.9537062638000888, 8.0: 3.0341996619407574, 7.0: 3.1713313311186653, 3.0: 3.062169158108333, 11.0: 1.6769877743224173, 10.0: 1.9288090070240012, 0.0: 0, 12.0: 1.0549201679861442, 14.0: 0, 13.0: 0}, {7.0: 3.2034104845944191, 3.0: 3.1528191292718435, 0.0: 2.8202275419711769, 4.0: 3.2154919040856265, 8.0: 3.2177660967070381, 2.0: 3.1325263492450639, 6.0: 3.1980286612446811, 1.0: 3.1607922047340136, 5.0: 3.2040467358794005, 9.0: 2.464771136237311, 11.0: 0, 14.0: 0, 10.0: 1.2309316230479224, 12.0: 1.0397207708399179, 13.0: 0}, {2.0: 3.1698638620922508, 0.0: 2.64770557148573, 4.0: 3.2037246724493009, 3.0: 3.1886205469407276, 11.0: 1.6769877743224173, 1.0: 2.9294775317176076, 5.0: 3.1523357312997087, 6.0: 3.0624672347563129, 8.0: 2.9013968938704444, 9.0: 2.5459277031501344, 7.0: 3.0864658947293435, 12.0: 1.0549201679861442, 10.0: 2.2243004996270579, 15.0: 0, 13.0: 0}, {7.0: 3.125364345988757, 4.0: 2.4793494183329376, 12.0: 1.4398298923439505, 8.0: 3.06113466237636, 6.0: 3.0466871482772939, 9.0: 3.0439159916891509, 3.0: 2.2632823154017103, 5.0: 2.7987846592347863, 10.0: 2.5170040257683937, 11.0: 2.1982283575864683, 2.0: 1.6715952780212544, 1.0: 0.46341355882642998, 0.0: 0, 13.0: 0.84868555772641718, 14.0: 0.95027053923323468, 15.0: 0}, {8.0: 3.0838765594233299, 4.0: 1.9208719885064807, 7.0: 2.983992434811662, 9.0: 2.9925443986038487, 11.0: 2.0251993716291432, 14.0: 1.0114042647073516, 6.0: 2.8927398049435236, 5.0: 2.7874684729307244, 10.0: 2.0841896991534501, 12.0: 1.5416222464053906, 15.0: 0, 3.0: 1.7673834214686432, 1.0: 0.34883209584303193, 2.0: 1.1035066768234878, 13.0: 1.3747764025076898, 0.0: 0}, {4.0: 3.1339997815832712, 5.0: 3.0310573708841284, 8.0: 2.4223398084313126, 15.0: 0.63651416829481278, 6.0: 2.9889080480532093, 3.0: 2.9645402908408807, 1.0: 2.0822906013496389, 0.0: 0.85942123589923702, 9.0: 2.0266145376110059, 13.0: 1.3516811946858949, 7.0: 2.6743514312174135, 2.0: 2.7903482697441357, 11.0: 1.3316643102930148, 12.0: 1.0767934024792074, 14.0: 0.94334839232903922, 10.0: 1.7229515191922551}, {3.0: 2.7861551218588527, 7.0: 2.8257380275782467, 5.0: 3.037464233976189, 2.0: 2.5219534960819736, 6.0: 2.9219804603674406, 8.0: 2.6337188653857329, 9.0: 1.9356641831902668, 4.0: 3.0072189514607039, 1.0: 2.0189397190025122, 0.0: 1.9375256321309358, 10.0: 1.8446501175244139, 11.0: 1.240684291953396, 15.0: 0, 13.0: 0, 12.0: 0, 14.0: 0}, {7.0: 3.0978296047771279, 11.0: 2.9185688124852893, 12.0: 2.2760404870308562, 6.0: 3.0280017542243254, 4.0: 1.9806166464690658, 10.0: 2.8942591845184897, 13.0: 1.7258816273864011, 8.0: 3.037891272775894, 9.0: 2.9270283636660372, 2.0: 0, 5.0: 2.4293299577813525, 14.0: 1.0239226832685102, 0.0: 0, 1.0: 0, 3.0: 1.4142790651247086, 15.0: 0}, {14.0: 0.59826958858525725, 9.0: 2.3457844483911887, 5.0: 2.8716257806506835, 7.0: 3.0082744670427353, 6.0: 2.9717179097636035, 11.0: 1.6987277691507128, 8.0: 2.7887777451947282, 3.0: 2.557787230977278, 2.0: 1.6679989470497598, 0.0: 0.85568866725566939, 1.0: 1.4118900885062806, 4.0: 2.6890636830072938, 12.0: 1.3091248246776024, 10.0: 2.3400288036913612, 13.0: 1.2511559833636317, 15.0: 0}, {8.0: 3.0173980424745737, 12.0: 1.6765768528541865, 11.0: 2.1471525934341043, 9.0: 3.0422375732089897, 5.0: 2.2002925075547011, 7.0: 2.9128293220520258, 10.0: 2.5008150141807186, 6.0: 2.7026480014742047, 4.0: 1.5567118154645376, 13.0: 1.4658586321567422, 15.0: 0.37677016125643675, 3.0: 0.8470490690476512, 14.0: 0.85158425391956993, 2.0: 0.3250829733914482, 1.0: 0}, {3.0: 2.7933281934546454, 1.0: 2.3312104559008264, 0.0: 2.0965251917122689, 6.0: 2.739115534768469, 9.0: 1.4494572282748797, 4.0: 2.9038246460719703, 2.0: 2.881572846186891, 5.0: 2.890008934670889, 7.0: 2.3050292073865117, 8.0: 1.7207234943225085, 10.0: 1.2997417995427409, 14.0: 0, 13.0: 0, 11.0: 0.90025605126853692, 12.0: 0.69314718055994529}, {9.0: 2.9189583285844312, 7.0: 2.6750109192890279, 8.0: 2.8906641708688294, 11.0: 2.1315477768459123, 6.0: 2.2254847041255048, 10.0: 2.5328094837432067, 12.0: 1.8343517874966193, 4.0: 1.6417347121875214, 5.0: 1.6643408675414, 3.0: 0.56233514461880829, 14.0: 0.69314718055994529, 13.0: 1.5498260458782016, 1.0: 0}, {0.0: 2.3556742895826828, 3.0: 2.8108134268085903, 4.0: 2.8899539346811176, 6.0: 2.7659299073494799, 2.0: 2.706258377657476, 7.0: 2.7203866628108493, 8.0: 2.6762920034147948, 1.0: 2.3792480596157755, 5.0: 2.964108355783079, 9.0: 2.0434366813277283, 11.0: 1.15374194270109, 10.0: 2.196755797914435, 12.0: 0.56233514461880829}, {8.0: 3.1459240108465401, 7.0: 3.1685979012730296, 6.0: 2.9051136297825493, 12.0: 2.022808529414704, 5.0: 2.6659963356735559, 11.0: 2.1160891740473629, 10.0: 2.5509622028297581, 9.0: 2.9017563371074457, 4.0: 2.1346377299469261, 3.0: 2.0431918705451206, 2.0: 1.3862943611198906, 13.0: 0, 1.0: 0}]\n"
     ]
    }
   ],
   "source": [
    "Sv = S(xtrain,ytrain)\n",
    "print (Sv)"
   ]
  },
  {
   "cell_type": "code",
   "execution_count": 124,
   "metadata": {
    "collapsed": true
   },
   "outputs": [
    {
     "name": "stdout",
     "output_type": "stream",
     "text": [
      "V\n",
      "V\n"
     ]
    }
   ],
   "source": [
    "print (Entropy(xtrain,ytrain,xtest[0,],Sv))\n",
    "print (ytest[8,])"
   ]
  },
  {
   "cell_type": "code",
   "execution_count": 127,
   "metadata": {
    "scrolled": true
   },
   "outputs": [
    {
     "name": "stdout",
     "output_type": "stream",
     "text": [
      "[[ 0.73709926  0.77839206  0.84219594]\n",
      " [ 0.74290357  0.78419637  0.81732032]\n",
      " [ 0.75368301  0.79663418  0.81732032]\n",
      " [ 0.76031651  0.79995093  0.80488251]\n",
      " [ 0.76695001  0.81155955  0.82809976]\n",
      " [ 0.75202463  0.79000068  0.78332364]\n",
      " [ 0.7545122   0.79746337  0.80073657]\n",
      " [ 0.7611457   0.7949758   0.82644138]\n",
      " [ 0.77441269  0.81238874  0.78166526]\n",
      " [ 0.7611457   0.80492605  0.79161551]]\n",
      "0.756419327297 0.797048772086 0.809360121866\n"
     ]
    }
   ],
   "source": [
    "result = np.zeros((10,3))\n",
    "for i in range(0,10):\n",
    "    NO = np.arange(n)+134*i\n",
    "    xtrain = x[n*i:n*(i+1),]\n",
    "    xtest = np.vstack((x[:n*i,],x[n*(i+1):,]))\n",
    "    ytrain = y[n*i:n*(i+1),]\n",
    "    ytest = np.hstack((y[:n*i,],y[n*(i+1):,]))\n",
    "    a=KNNclassify(xtrain,ytrain,norm=False)\n",
    "    result[i,0]=1-a.err(xtest,ytest,k=10)\n",
    "    result[i,1]=1-a.Werr(xtest,ytest,k=10)\n",
    "    result[i,2]=1-Eerr(xtrain,ytrain,xtest,k=10)\n",
    "print (result)\n",
    "knn=0\n",
    "wknn=0\n",
    "Eknn=0\n",
    "for i in range(0,10):\n",
    "    knn=knn+result[i,0]\n",
    "    wknn=wknn+result[i,1]\n",
    "    Eknn=Eknn+result[i,2]\n",
    "print (knn/10,wknn/10,Eknn/10)"
   ]
  },
  {
   "cell_type": "code",
   "execution_count": 129,
   "metadata": {
    "collapsed": true
   },
   "outputs": [
    {
     "name": "stdout",
     "output_type": "stream",
     "text": [
      "V\n",
      "V\n"
     ]
    }
   ],
   "source": [
    "print (Entropy(xtrain,ytrain,xtest[0,],Sv))\n",
    "print (ytest[8,])"
   ]
  },
  {
   "cell_type": "code",
   "execution_count": 151,
   "metadata": {
    "scrolled": false
   },
   "outputs": [
    {
     "name": "stdout",
     "output_type": "stream",
     "text": [
      "[[ 0.23818444  0.33835102  0.55786443]\n",
      " [ 0.34145965  0.45204741  0.64676617]\n",
      " [ 0.41316759  0.50475571  0.69216458]\n",
      " [ 0.47965148  0.55576227  0.69965241]\n",
      " [ 0.52299326  0.59869321  0.72942815]\n",
      " [ 0.58971674  0.65990183  0.74736266]\n",
      " [ 0.61203422  0.67973679  0.76421799]\n",
      " [ 0.64355582  0.69911503  0.77648753]\n",
      " [ 0.65320119  0.71437475  0.78368476]\n",
      " [ 0.66815671  0.73324071  0.77597493]]\n"
     ]
    }
   ],
   "source": [
    "result = np.zeros((10,3))\n",
    "for s in range(0,10):\n",
    "    n = (s+1)*100\n",
    "    knn=0\n",
    "    wknn=0\n",
    "    Eknn=0\n",
    "    for i in range(0,10):\n",
    "        NO = np.arange(n)+134*i\n",
    "        xtrain = x[n*i:n*(i+1),]\n",
    "        xtest = np.vstack((x[:n*i,],x[n*(i+1):,]))\n",
    "        ytrain = y[n*i:n*(i+1),]\n",
    "        ytest = np.hstack((y[:n*i,],y[n*(i+1):,]))\n",
    "        a=KNNclassify(xtrain,ytrain,norm=False)\n",
    "        knn = knn+1-a.err(xtest,ytest,k=10)\n",
    "        wknn = wknn+1-a.Werr(xtest,ytest,k=10)\n",
    "        Eknn = Eknn+1-Eerr(xtrain,ytrain,xtest,k=10)\n",
    "    result[s,] = np.array([knn/10,wknn/10,Eknn/10])\n",
    "print (result)"
   ]
  },
  {
   "cell_type": "code",
   "execution_count": 157,
   "metadata": {},
   "outputs": [
    {
     "name": "stdout",
     "output_type": "stream",
     "text": [
      "[[ 0.4353249   0.4885045   0.69643067]\n",
      " [ 0.34145965  0.45204741  0.64676617]\n",
      " [ 0.30560835  0.42727395  0.62179354]\n",
      " [ 0.323636    0.43560317  0.63879441]\n",
      " [ 0.28531252  0.42372297  0.61551394]\n",
      " [ 0.24825977  0.38371185  0.60857102]\n",
      " [ 0.2508424   0.30097481  0.59322387]\n",
      " [ 0.26763145  0.36121686  0.60052229]\n",
      " [ 0.25959786  0.36819351  0.5811371 ]\n",
      " [ 0.25629965  0.35384866  0.58486375]]\n"
     ]
    }
   ],
   "source": [
    "result = np.zeros((10,3))\n",
    "n = 200\n",
    "for p in range(0,10):\n",
    "    k = (p+1)*5\n",
    "    knn=0\n",
    "    wknn=0\n",
    "    Eknn=0\n",
    "    for i in range(0,10):\n",
    "        NO = np.arange(n)+134*i\n",
    "        xtrain = x[n*i:n*(i+1),]\n",
    "        xtest = np.vstack((x[:n*i,],x[n*(i+1):,]))\n",
    "        ytrain = y[n*i:n*(i+1),]\n",
    "        ytest = np.hstack((y[:n*i,],y[n*(i+1):,]))\n",
    "        a=KNNclassify(xtrain,ytrain,norm=False)\n",
    "        knn = knn+1-a.err(xtest,ytest,k=10)\n",
    "        wknn = wknn+1-a.Werr(xtest,ytest,k=10)\n",
    "        Eknn = Eknn+1-Eerr(xtrain,ytrain,xtest,k=10)\n",
    "    result[p,] = np.array([knn/10,wknn/10,Eknn/10])\n",
    "print (result)"
   ]
  },
  {
   "cell_type": "code",
   "execution_count": null,
   "metadata": {
    "collapsed": true
   },
   "outputs": [],
   "source": []
  },
  {
   "cell_type": "code",
   "execution_count": 158,
   "metadata": {
    "collapsed": true
   },
   "outputs": [
    {
     "name": "stdout",
     "output_type": "stream",
     "text": [
      "[[   1    3    6 ...,    1    2    0]\n",
      " [   2    3    6 ...,    1    3    0]\n",
      " [   3    8    3 ...,    0    2    0]\n",
      " ..., \n",
      " [1338    4    2 ...,    1    1    0]\n",
      " [1339    5    2 ...,    0    1    1]\n",
      " [1340    5    2 ...,    0    1    1]]\n"
     ]
    }
   ],
   "source": [
    "data = np.loadtxt('C:/Users/Kiran/Desktop/2017 Fall/Data Mining/Final Project/Data-NBA/NBA-leveled data.csv',\n",
    "                  delimiter=',',skiprows=1,dtype=int)\n",
    "print (data)"
   ]
  },
  {
   "cell_type": "code",
   "execution_count": 159,
   "metadata": {
    "collapsed": true
   },
   "outputs": [
    {
     "name": "stdout",
     "output_type": "stream",
     "text": [
      "[[3 6 2 ..., 1 1 2]\n",
      " [3 6 2 ..., 4 1 3]\n",
      " [8 3 1 ..., 1 0 2]\n",
      " ..., \n",
      " [4 2 1 ..., 1 1 1]\n",
      " [5 2 1 ..., 1 0 1]\n",
      " [5 2 1 ..., 2 0 1]] ['0' '0' '0' ..., '0' '1' '1']\n"
     ]
    }
   ],
   "source": [
    "x = data[:,1:-1]\n",
    "y = np.array(data[:,-1],dtype=str)\n",
    "print (x,y)"
   ]
  },
  {
   "cell_type": "code",
   "execution_count": 160,
   "metadata": {
    "collapsed": true
   },
   "outputs": [
    {
     "name": "stdout",
     "output_type": "stream",
     "text": [
      "[[3 6 2 ..., 1 1 2]\n",
      " [3 6 2 ..., 4 1 3]\n",
      " [8 3 1 ..., 1 0 2]\n",
      " ..., \n",
      " [5 1 1 ..., 0 1 0]\n",
      " [9 4 3 ..., 3 1 3]\n",
      " [9 4 2 ..., 1 1 3]] [[ 9  4  3 ...,  2 -1  3]\n",
      " [ 8  4  2 ...,  2  0  1]\n",
      " [ 9  4  3 ...,  2  1  3]\n",
      " ..., \n",
      " [ 4  2  1 ...,  1  1  1]\n",
      " [ 5  2  1 ...,  1  0  1]\n",
      " [ 5  2  1 ...,  2  0  1]]\n",
      "['0' '0' '0' '1' '1' '0' '1' '1' '0' '0' '0' '1' '1' '0' '1' '1' '0' '0'\n",
      " '0' '1' '1' '1' '1' '0' '0' '1' '0' '1' '0' '1' '1' '1' '1' '1' '0' '1'\n",
      " '1' '1' '1' '1' '0' '0' '0' '0' '1' '1' '1' '0' '1' '1' '0' '1' '1' '0'\n",
      " '0' '0' '0' '0' '0' '0' '0' '0' '0' '1' '0' '1' '0' '1' '1' '1' '1' '0'\n",
      " '1' '0' '1' '1' '1' '1' '0' '1' '1' '0' '0' '1' '0' '0' '1' '1' '0' '1'\n",
      " '0' '1' '0' '0' '0' '1' '1' '1' '0' '1' '0' '0' '1' '0' '0' '1' '0' '1'\n",
      " '0' '0' '1' '1' '1' '0' '1' '1' '0' '1' '1' '0' '0' '1' '1' '1' '1' '1'\n",
      " '1' '0' '1' '1' '1' '0' '1' '1'] ['1' '0' '1' ..., '0' '1' '1']\n"
     ]
    }
   ],
   "source": [
    "N = y.shape[0]\n",
    "s = 10\n",
    "n = int(N/s)\n",
    "xtrain = x[:n,]\n",
    "xtest = x[n:,]\n",
    "ytrain = y[:n,]\n",
    "ytest = y[n:,]\n",
    "print (xtrain,xtest)\n",
    "print (ytrain,ytest)"
   ]
  },
  {
   "cell_type": "code",
   "execution_count": 161,
   "metadata": {
    "collapsed": true
   },
   "outputs": [
    {
     "name": "stdout",
     "output_type": "stream",
     "text": [
      "[ 0.8  0.2]\n",
      "[ 0.81818182  0.18181818]\n",
      "[ 0.3125  0.6875]\n",
      "[ 0.6302521  0.3697479]\n",
      "[ 0.56589147  0.43410853]\n",
      "[ 0.49056604  0.50943396]\n",
      "[ 0.56834532  0.43165468]\n",
      "[ 0.6516129  0.3483871]\n",
      "[ 0.28965517  0.71034483]\n",
      "[ 0.1558753  0.8441247]\n"
     ]
    }
   ],
   "source": [
    "for m in range(10):\n",
    "    Count = {}    \n",
    "    for i in range(x.shape[0]):\n",
    "        c=y[i]\n",
    "        if x[i,0]==m: Count[c]=Count.get(c,0)+1   #Dict\n",
    "        #else: Count[c]=Count.get(c,0)\n",
    "    v = sum(Count.values())\n",
    "    if v == 0: continue\n",
    "    if len(Count) == 1: \n",
    "        S[m,n] = 0\n",
    "        continue\n",
    "    print (np.array(list(map(float,Count.values())))/v)"
   ]
  },
  {
   "cell_type": "code",
   "execution_count": 162,
   "metadata": {
    "collapsed": true
   },
   "outputs": [
    {
     "name": "stdout",
     "output_type": "stream",
     "text": [
      "[{3: 0.63651416829481278, 8: 0.65548177390139273, 6: 0.68900923847665863, 5: 0.69314718055994529, 9: 0.53316384073729861, 7: 0.67301166700925652, 4: 0.69314718055994529, 2: 0.63651416829481278, 1: 0, 0: 0}, {6: 0.63651416829481278, 3: 0.67749440444870723, 2: 0.69234696708996146, 1: 0.67000897982742713, 0: 0.69092330931381807, 9: 0.63651416829481278, 7: 0.52970619905765448, 5: 0.47413931305783735, 4: 0.51957983913051542, 8: 0.63651416829481278}, {2: 0.64503315167603414, 1: 0.69314718055994529, 0: 0.65405481030693169, 6: 0.56233514461880829, 4: 0.6108643020548935, 3: 0.45056120886630463, 5: 0.63651416829481278, 8: 0}, {2: 0.50040242353818787, 1: 0.410116318288409, 3: 0.69189665920507992, 5: 0.36692499127270961, 4: 0.64744663903463251, 6: 0}, {2: 0.68490624041583559, -1: 0.63100519280469347, 3: 0.64924835487089805, 4: 0.67301166700925652, 1: 0.66156323815798213, 0: 0.67301166700925652, 9: 0}, {6: 0.68062948789166344, 7: 0.6896709283570267, 8: 0.67590103057401141, 2: 0, 4: 0.63651416829481278, 5: 0.66627844241467604, 9: 0.63651416829481278, 3: 0}, {2: 0.56233514461880829, 1: 0.6829081047004717, 0: 0.62549135972557302, -1: 0, 7: 0.63651416829481278, 5: 0, 3: 0.56233514461880829, 4: 0, 6: 0, 8: 0}, {1: 0.65405481030693169, 3: 0.66627844241467604, 0: 0.69303579304255802, 2: 0.69314718055994529, 4: 0, 6: 0, 8: 0.69314718055994529, 7: 0}, {1: 0.68461627780130474, 4: 0.67301166700925652, 2: 0.66932796329264543, 0: 0.68696157659732338, 3: 0.59826958858525725, 5: 0.56233514461880829, 7: 0, 6: 0, 8: 0.69314718055994529}, {1: 0.54020414238886083, 0: 0.6928497090635346, -1: 0.57991517141810089, 2: 0, 3: 0.50040242353818787, 4: 0, 9: 0}, {2: 0.6829081047004717, 3: 0.6460905050608089, 1: 0.69046780870320246, 0: 0.54887438448499437, 4: 0.30463609734923813, 5: 0, 6: 0, -1: 0.69314718055994529, 7: 0.69314718055994529}]\n"
     ]
    }
   ],
   "source": [
    "Sv = S(xtrain,ytrain)\n",
    "print (Sv)"
   ]
  },
  {
   "cell_type": "code",
   "execution_count": 163,
   "metadata": {
    "collapsed": true
   },
   "outputs": [
    {
     "name": "stdout",
     "output_type": "stream",
     "text": [
      "1\n",
      "1\n"
     ]
    }
   ],
   "source": [
    "print (Entropy(xtrain,ytrain,xtest[0,:],Sv,k=10))\n",
    "print (ytest[0,])"
   ]
  },
  {
   "cell_type": "code",
   "execution_count": 164,
   "metadata": {
    "collapsed": true
   },
   "outputs": [
    {
     "name": "stdout",
     "output_type": "stream",
     "text": [
      "['1' '1' '1' ..., '1' '0' '0']\n"
     ]
    }
   ],
   "source": [
    "k=10\n",
    "pre = AllEntropy(xtrain,ytrain,xtest,k)\n",
    "print (pre)"
   ]
  },
  {
   "cell_type": "code",
   "execution_count": 165,
   "metadata": {
    "collapsed": true
   },
   "outputs": [
    {
     "name": "stdout",
     "output_type": "stream",
     "text": [
      "0.328358208955\n"
     ]
    }
   ],
   "source": [
    "k=10\n",
    "err = Eerr(xtrain,ytrain,xtest,k)\n",
    "print (err)"
   ]
  },
  {
   "cell_type": "code",
   "execution_count": 166,
   "metadata": {
    "collapsed": true
   },
   "outputs": [
    {
     "name": "stdout",
     "output_type": "stream",
     "text": [
      "1340 134\n"
     ]
    }
   ],
   "source": [
    "N = y.shape[0]\n",
    "s = 10\n",
    "n = int(N/s)\n",
    "k = 10\n",
    "print (N,n)"
   ]
  },
  {
   "cell_type": "code",
   "execution_count": 119,
   "metadata": {},
   "outputs": [
    {
     "name": "stdout",
     "output_type": "stream",
     "text": [
      "[[ 0.64510779  0.70999694  0.95811763]\n",
      " [ 0.65091211  0.71580125  0.93324201]\n",
      " [ 0.66169154  0.72823906  0.93324201]\n",
      " [ 0.66832504  0.73155581  0.9208042 ]\n",
      " [ 0.67495854  0.74316443  0.94402145]\n",
      " [ 0.66003317  0.72160556  0.89924533]\n",
      " [ 0.66252073  0.72906825  0.91665826]\n",
      " [ 0.66915423  0.72658069  0.94236307]\n",
      " [ 0.68242123  0.74399362  0.89758695]\n",
      " [ 0.66915423  0.73653094  0.9075372 ]]\n",
      "0.664427860697 0.728653654946 0.925281813906\n"
     ]
    }
   ],
   "source": [
    "result = np.zeros((10,3))\n",
    "for i in range(0,10):\n",
    "    NO = np.arange(n)+134*i\n",
    "    xtrain = x[n*i:n*(i+1),]\n",
    "    xtest = np.vstack((x[:n*i,],x[n*(i+1):,]))\n",
    "    ytrain = y[n*i:n*(i+1),]\n",
    "    ytest = np.hstack((y[:n*i,],y[n*(i+1):,]))\n",
    "    a=KNNclassify(xtrain,ytrain,norm=False)\n",
    "    result[i,0]=1-a.err(xtest,ytest,k=10)\n",
    "    result[i,1]=1-a.Werr(xtest,ytest,k=10)\n",
    "    result[i,2]=1-Eerr(xtrain,ytrain,xtest,k=10)\n",
    "print (result)\n",
    "knn=0\n",
    "wknn=0\n",
    "Eknn=0\n",
    "for i in range(0,10):\n",
    "    knn=knn+result[i,0]\n",
    "    wknn=wknn+result[i,1]\n",
    "    Eknn=Eknn+result[i,2]\n",
    "print (knn/10,wknn/10,Eknn/10)"
   ]
  }
 ],
 "metadata": {
  "kernelspec": {
   "display_name": "Python 3",
   "language": "python",
   "name": "python3"
  },
  "language_info": {
   "codemirror_mode": {
    "name": "ipython",
    "version": 3
   },
   "file_extension": ".py",
   "mimetype": "text/x-python",
   "name": "python",
   "nbconvert_exporter": "python",
   "pygments_lexer": "ipython3",
   "version": "3.6.1"
  }
 },
 "nbformat": 4,
 "nbformat_minor": 2
}
